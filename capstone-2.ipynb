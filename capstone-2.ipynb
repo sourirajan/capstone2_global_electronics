{
 "cells": [
  {
   "cell_type": "code",
   "execution_count": 1,
   "id": "fb7760e4-be13-4d92-ba11-cee0c230552d",
   "metadata": {},
   "outputs": [],
   "source": [
    "import pandas as pd\n",
    "import numpy as np\n",
    "import datetime\n",
    "import os\n",
    "import psycopg2\n",
    "from sqlalchemy import create_engine\n",
    "from decimal import Decimal"
   ]
  },
  {
   "cell_type": "code",
   "execution_count": 21,
   "id": "230682ec-26a2-4018-bc53-f851b66263f5",
   "metadata": {},
   "outputs": [],
   "source": [
    "stores_df = pd.read_csv('datasets/Stores.csv')"
   ]
  },
  {
   "cell_type": "code",
   "execution_count": null,
   "id": "8160c0e3-f1a7-4db6-a531-06238d60c6d0",
   "metadata": {
    "collapsed": true,
    "jupyter": {
     "outputs_hidden": true
    }
   },
   "outputs": [],
   "source": [
    "stores_df"
   ]
  },
  {
   "cell_type": "code",
   "execution_count": null,
   "id": "dfc04832-3383-485f-87d1-aa0088dd748b",
   "metadata": {
    "collapsed": true,
    "jupyter": {
     "outputs_hidden": true
    }
   },
   "outputs": [],
   "source": [
    "stores_df.info()"
   ]
  },
  {
   "cell_type": "code",
   "execution_count": null,
   "id": "0fbdf431-c375-40fb-8147-1834c638106f",
   "metadata": {
    "collapsed": true,
    "jupyter": {
     "outputs_hidden": true
    }
   },
   "outputs": [],
   "source": [
    "stores_df.describe()"
   ]
  },
  {
   "cell_type": "code",
   "execution_count": null,
   "id": "e023a1ef-78ad-4c8b-b202-75ed21c50097",
   "metadata": {
    "collapsed": true,
    "jupyter": {
     "outputs_hidden": true
    }
   },
   "outputs": [],
   "source": [
    "stores_df[['Country','State','Open Date']].describe()"
   ]
  },
  {
   "cell_type": "code",
   "execution_count": null,
   "id": "53a3cd76-2b4a-4fcc-9dfd-b842254c6d14",
   "metadata": {
    "collapsed": true,
    "jupyter": {
     "outputs_hidden": true
    }
   },
   "outputs": [],
   "source": [
    "stores_df.isna().sum()"
   ]
  },
  {
   "cell_type": "code",
   "execution_count": null,
   "id": "7f6409da-2470-40b6-8330-546c29b9618a",
   "metadata": {
    "collapsed": true,
    "jupyter": {
     "outputs_hidden": true
    }
   },
   "outputs": [],
   "source": [
    "stores_df[stores_df['Square Meters'].isna()]"
   ]
  },
  {
   "cell_type": "code",
   "execution_count": null,
   "id": "bd82f4a0-5aa7-488c-9068-9fc15c754daf",
   "metadata": {
    "collapsed": true,
    "jupyter": {
     "outputs_hidden": true
    }
   },
   "outputs": [],
   "source": [
    "stores_df['Open Date'].unique()"
   ]
  },
  {
   "cell_type": "code",
   "execution_count": 22,
   "id": "6d854705-c571-40e5-924c-ea95a0c9f55d",
   "metadata": {},
   "outputs": [
    {
     "data": {
      "text/plain": [
       "0    2008-01-01\n",
       "1    2008-01-12\n",
       "2    2012-01-07\n",
       "3    2010-01-01\n",
       "4    2015-12-09\n",
       "        ...    \n",
       "62   2008-03-06\n",
       "63   2010-01-01\n",
       "64   2012-01-01\n",
       "65   2014-01-01\n",
       "66   2010-01-01\n",
       "Name: Formatted Open Date, Length: 67, dtype: datetime64[ns]"
      ]
     },
     "execution_count": 22,
     "metadata": {},
     "output_type": "execute_result"
    }
   ],
   "source": [
    "stores_df['Formatted Open Date'] = pd.to_datetime(stores_df['Open Date'], format='%m/%d/%Y')\n",
    "stores_df['Formatted Open Date']"
   ]
  },
  {
   "cell_type": "code",
   "execution_count": 24,
   "id": "064f3f05-a4b3-4335-94da-e93dae587867",
   "metadata": {},
   "outputs": [
    {
     "name": "stdout",
     "output_type": "stream",
     "text": [
      "<class 'pandas.core.frame.DataFrame'>\n",
      "RangeIndex: 67 entries, 0 to 66\n",
      "Data columns (total 6 columns):\n",
      " #   Column               Non-Null Count  Dtype         \n",
      "---  ------               --------------  -----         \n",
      " 0   StoreKey             67 non-null     int64         \n",
      " 1   Country              67 non-null     object        \n",
      " 2   State                67 non-null     object        \n",
      " 3   Square Meters        66 non-null     float64       \n",
      " 4   Open Date            67 non-null     object        \n",
      " 5   Formatted Open Date  67 non-null     datetime64[ns]\n",
      "dtypes: datetime64[ns](1), float64(1), int64(1), object(3)\n",
      "memory usage: 3.3+ KB\n"
     ]
    }
   ],
   "source": [
    "stores_df.info()"
   ]
  },
  {
   "cell_type": "code",
   "execution_count": 16,
   "id": "245d92b0-b11c-4802-b5d6-8cdc5d3c5b89",
   "metadata": {},
   "outputs": [],
   "source": [
    "def get_connection():\n",
    "\n",
    "    user=os.environ['PG_USER']\n",
    "    password=os.environ['PG_PASSWORD']\n",
    "    host=os.environ['PG_HOST']\n",
    "    port=os.environ['PG_PORT']\n",
    "    database=os.environ['PG_DBNAME']\n",
    "    \n",
    "    conn_string = f'postgresql://{user}:{password}@{host}:{port}/{database}'\n",
    "    db = create_engine(conn_string)\n",
    "    \n",
    "    return db.connect()\n"
   ]
  },
  {
   "cell_type": "code",
   "execution_count": null,
   "id": "56a7de7e-da24-4de4-a35e-b0254d4d9869",
   "metadata": {
    "collapsed": true,
    "jupyter": {
     "outputs_hidden": true
    }
   },
   "outputs": [],
   "source": [
    "#create_sql = create table cp2_stores(store_key INT, country VARCHAR(255) NOT NULL, country_state VARCHAR(255) NOT NULL, sq_meters DECIMAL, open_date DATE NOT NULL, PRIMARY KEY(store_key))\n",
    "\n",
    "stores_df[['StoreKey','Country','State','Square Meters','Formatted Open Date']].to_sql('cp2_stores', get_connection(), if_exists='replace', index=False)\n",
    "\n",
    "connection.close()"
   ]
  },
  {
   "cell_type": "code",
   "execution_count": 2,
   "id": "ba557511-df7f-460f-b225-760ac8aeff93",
   "metadata": {},
   "outputs": [],
   "source": [
    "products_df = pd.read_csv('datasets/Products.csv')"
   ]
  },
  {
   "cell_type": "code",
   "execution_count": 10,
   "id": "3dcae7b3-f7d1-4063-8b65-003a9c1d3da9",
   "metadata": {
    "collapsed": true,
    "jupyter": {
     "outputs_hidden": true
    }
   },
   "outputs": [
    {
     "name": "stdout",
     "output_type": "stream",
     "text": [
      "<class 'pandas.core.frame.DataFrame'>\n",
      "RangeIndex: 2517 entries, 0 to 2516\n",
      "Data columns (total 10 columns):\n",
      " #   Column          Non-Null Count  Dtype \n",
      "---  ------          --------------  ----- \n",
      " 0   ProductKey      2517 non-null   int64 \n",
      " 1   Product Name    2517 non-null   object\n",
      " 2   Brand           2517 non-null   object\n",
      " 3   Color           2517 non-null   object\n",
      " 4   Unit Cost USD   2517 non-null   object\n",
      " 5   Unit Price USD  2517 non-null   object\n",
      " 6   SubcategoryKey  2517 non-null   int64 \n",
      " 7   Subcategory     2517 non-null   object\n",
      " 8   CategoryKey     2517 non-null   int64 \n",
      " 9   Category        2517 non-null   object\n",
      "dtypes: int64(3), object(7)\n",
      "memory usage: 196.8+ KB\n"
     ]
    }
   ],
   "source": [
    "products_df.info()"
   ]
  },
  {
   "cell_type": "code",
   "execution_count": 12,
   "id": "7602a1fa-fe8d-40cc-9e45-5d6d7f0c5796",
   "metadata": {
    "collapsed": true,
    "jupyter": {
     "outputs_hidden": true
    }
   },
   "outputs": [
    {
     "data": {
      "text/plain": [
       "array([False])"
      ]
     },
     "execution_count": 12,
     "metadata": {},
     "output_type": "execute_result"
    }
   ],
   "source": [
    "products_df.duplicated().unique()"
   ]
  },
  {
   "cell_type": "code",
   "execution_count": 18,
   "id": "942f163a-433b-4baa-8f24-f86c164e01d3",
   "metadata": {
    "collapsed": true,
    "jupyter": {
     "outputs_hidden": true
    }
   },
   "outputs": [
    {
     "data": {
      "text/plain": [
       "2517"
      ]
     },
     "execution_count": 18,
     "metadata": {},
     "output_type": "execute_result"
    }
   ],
   "source": [
    "len(products_df['ProductKey'].unique())"
   ]
  },
  {
   "cell_type": "code",
   "execution_count": 19,
   "id": "3045dcc2-7b87-4dd7-ab0d-b1326701321e",
   "metadata": {
    "collapsed": true,
    "jupyter": {
     "outputs_hidden": true
    }
   },
   "outputs": [
    {
     "data": {
      "text/plain": [
       "array([1, 2, 3, 4, 5, 6, 7, 8])"
      ]
     },
     "execution_count": 19,
     "metadata": {},
     "output_type": "execute_result"
    }
   ],
   "source": [
    "products_df['CategoryKey'].unique()"
   ]
  },
  {
   "cell_type": "code",
   "execution_count": 21,
   "id": "aa3a40be-0d90-489d-aec4-ae1724cfb9a5",
   "metadata": {
    "collapsed": true,
    "jupyter": {
     "outputs_hidden": true
    }
   },
   "outputs": [
    {
     "data": {
      "text/plain": [
       "array([101, 104, 106, 201, 202, 203, 205, 301, 303, 304, 305, 306, 308,\n",
       "       401, 402, 405, 406, 501, 503, 504, 602, 701, 702, 801, 802, 803,\n",
       "       804, 805, 806, 807, 808, 505])"
      ]
     },
     "execution_count": 21,
     "metadata": {},
     "output_type": "execute_result"
    }
   ],
   "source": [
    "products_df['SubcategoryKey'].unique()"
   ]
  },
  {
   "cell_type": "code",
   "execution_count": 37,
   "id": "d7a60661-a6aa-40c2-9da5-2b7c75e15de8",
   "metadata": {
    "collapsed": true,
    "jupyter": {
     "outputs_hidden": true
    }
   },
   "outputs": [
    {
     "data": {
      "text/plain": [
       "0        $6.62\n",
       "1        $6.62\n",
       "2        $7.40\n",
       "3       $11.00\n",
       "4       $11.00\n",
       "         ...  \n",
       "2512    $43.07\n",
       "2513    $43.07\n",
       "2514     $1.71\n",
       "2515     $1.71\n",
       "2516     $1.71\n",
       "Name: Unit Cost USD, Length: 2517, dtype: object"
      ]
     },
     "execution_count": 37,
     "metadata": {},
     "output_type": "execute_result"
    }
   ],
   "source": [
    "products_df['Unit Cost USD'].str.strip()"
   ]
  },
  {
   "cell_type": "code",
   "execution_count": 27,
   "id": "ff16d5ce-49cd-4529-9832-ecd35159e184",
   "metadata": {
    "collapsed": true,
    "jupyter": {
     "outputs_hidden": true
    }
   },
   "outputs": [
    {
     "data": {
      "text/plain": [
       "np.int64(2517)"
      ]
     },
     "execution_count": 27,
     "metadata": {},
     "output_type": "execute_result"
    }
   ],
   "source": [
    "products_df['Unit Cost USD'].str.startswith('$').sum()"
   ]
  },
  {
   "cell_type": "code",
   "execution_count": null,
   "id": "5453c77e-cd66-46d8-bce5-fc3d2323658b",
   "metadata": {
    "collapsed": true,
    "jupyter": {
     "outputs_hidden": true
    }
   },
   "outputs": [],
   "source": [
    "#TODO: Unit Cost USD: Remove $ and trim the spaces beore storing as decimal"
   ]
  },
  {
   "cell_type": "code",
   "execution_count": 38,
   "id": "3394d1d7-348e-4c5d-b5a6-2ef74034c770",
   "metadata": {
    "collapsed": true,
    "jupyter": {
     "outputs_hidden": true
    }
   },
   "outputs": [
    {
     "data": {
      "text/plain": [
       "array(['$6.62 ', '$7.40 ', '$11.00 ', '$30.58 ', '$35.72 ', '$50.56 ',\n",
       "       '$61.62 ', '$91.93 ', '$84.49 ', '$48.92 ', '$99.14 ', '$106.69 ',\n",
       "       '$76.45 ', '$91.95 ', '$98.07 ', '$79.53 ', '$83.24 ', '$13.10 ',\n",
       "       '$22.05 ', '$17.45 ', '$18.65 ', '$45.98 ', '$49.69 ', '$34.36 ',\n",
       "       '$55.18 ', '$52.88 ', '$61.16 ', '$82.83 ', '$86.67 ', '$61.17 ',\n",
       "       '$128.76 ', '$73.11 ', '$101.97 ', '$160.93 ', '$229.93 ',\n",
       "       '$152.94 ', '$960.82 ', '$392.60 ', '$216.12 ', '$505.85 ',\n",
       "       '$527.53 ', '$389.26 ', '$54.72 ', '$35.18 ', '$59.32 ', '$50.13 ',\n",
       "       '$45.53 ', '$55.99 ', '$45.83 ', '$43.04 ', '$53.76 ', '$58.36 ',\n",
       "       '$29.01 ', '$33.65 ', '$275.46 ', '$321.44 ', '$152.44 ',\n",
       "       '$293.85 ', '$137.60 ', '$152.90 ', '$261.66 ', '$252.47 ',\n",
       "       '$316.85 ', '$264.72 ', '$367.43 ', '$266.26 ', '$167.73 ',\n",
       "       '$294.54 ', '$208.52 ', '$197.28 ', '$224.87 ', '$155.89 ',\n",
       "       '$183.49 ', '$101.46 ', '$243.27 ', '$244.72 ', '$183.54 ',\n",
       "       '$229.47 ', '$142.24 ', '$132.05 ', '$137.14 ', '$157.54 ',\n",
       "       '$111.65 ', '$162.64 ', '$330.99 ', '$287.92 ', '$151.30 ',\n",
       "       '$169.69 ', '$397.25 ', '$404.63 ', '$376.63 ', '$444.69 ',\n",
       "       '$364.12 ', '$186.60 ', '$303.05 ', '$269.48 ', '$348.58 ',\n",
       "       '$195.26 ', '$203.42 ', '$171.30 ', '$163.15 ', '$196.23 ',\n",
       "       '$195.24 ', '$185.32 ', '$210.11 ', '$168.24 ', '$166.20 ',\n",
       "       '$187.62 ', '$193.74 ', '$198.32 ', '$430.38 ', '$321.05 ',\n",
       "       '$137.63 ', '$188.13 ', '$254.86 ', '$215.68 ', '$275.87 ',\n",
       "       '$304.48 ', '$257.06 ', '$112.14 ', '$117.21 ', '$160.49 ',\n",
       "       '$271.35 ', '$205.09 ', '$224.97 ', '$119.11 ', '$128.30 ',\n",
       "       '$63.92 ', '$82.32 ', '$50.47 ', '$65.77 ', '$30.08 ', '$24.98 ',\n",
       "       '$70.87 ', '$22.86 ', '$29.82 ', '$760.38 ', '$827.97 ',\n",
       "       '$459.40 ', '$116.75 ', '$254.40 ', '$152.08 ', '$99.06 ',\n",
       "       '$115.43 ', '$87.37 ', '$55.57 ', '$137.50 ', '$83.16 ', '$62.95 ',\n",
       "       '$73.12 ', '$77.72 ', '$40.28 ', '$69.25 ', '$72.56 ', '$44.36 ',\n",
       "       '$46.39 ', '$39.77 ', '$53.34 ', '$55.64 ', '$62.54 ', '$73.58 ',\n",
       "       '$72.66 ', '$68.52 ', '$54.26 ', '$75.54 ', '$78.19 ', '$82.17 ',\n",
       "       '$75.87 ', '$52.00 ', '$74.96 ', '$67.60 ', '$86.45 ', '$90.13 ',\n",
       "       '$6.60 ', '$20.34 ', '$9.17 ', '$7.59 ', '$6.88 ', '$4.37 ',\n",
       "       '$5.86 ', '$4.84 ', '$5.29 ', '$15.24 ', '$13.00 ', '$13.75 ',\n",
       "       '$12.83 ', '$6.07 ', '$7.09 ', '$8.62 ', '$11.23 ', '$10.99 ',\n",
       "       '$13.22 ', '$15.27 ', '$10.15 ', '$7.90 ', '$9.13 ', '$11.68 ',\n",
       "       '$26.97 ', '$8.11 ', '$11.91 ', '$18.35 ', '$13.71 ', '$7.95 ',\n",
       "       '$76.50 ', '$13.77 ', '$23.45 ', '$32.19 ', '$10.69 ', '$43.06 ',\n",
       "       '$6.63 ', '$49.70 ', '$25.49 ', '$21.28 ', '$22.43 ', '$38.74 ',\n",
       "       '$44.10 ', '$59.31 ', '$0.48 ', '$1.01 ', '$17.33 ', '$28.04 ',\n",
       "       '$36.33 ', '$21.41 ', '$66.26 ', '$68.06 ', '$75.88 ', '$88.79 ',\n",
       "       '$96.08 ', '$143.26 ', '$84.84 ', '$86.68 ', '$85.95 ', '$90.55 ',\n",
       "       '$91.05 ', '$76.53 ', '$207.74 ', '$194.82 ', '$143.48 ',\n",
       "       '$155.43 ', '$141.47 ', '$211.05 ', '$188.19 ', '$144.40 ',\n",
       "       '$164.63 ', '$214.03 ', '$139.80 ', '$222.98 ', '$152.68 ',\n",
       "       '$209.39 ', '$157.73 ', '$148.08 ', '$208.40 ', '$144.52 ',\n",
       "       '$138.88 ', '$150.84 ', '$213.70 ', '$153.59 ', '$217.68 ',\n",
       "       '$146.70 ', '$159.20 ', '$180.22 ', '$275.92 ', '$260.28 ',\n",
       "       '$291.09 ', '$301.21 ', '$215.15 ', '$220.25 ', '$209.54 ',\n",
       "       '$209.03 ', '$331.32 ', '$330.66 ', '$324.69 ', '$530.11 ',\n",
       "       '$523.49 ', '$516.86 ', '$503.61 ', '$409.28 ', '$404.68 ',\n",
       "       '$395.48 ', '$390.88 ', '$91.77 ', '$84.12 ', '$81.57 ',\n",
       "       '$285.12 ', '$255.68 ', '$293.39 ', '$305.81 ', '$230.44 ',\n",
       "       '$245.74 ', '$219.74 ', '$234.52 ', '$341.26 ', '$327.34 ',\n",
       "       '$536.74 ', '$506.92 ', '$496.98 ', '$408.36 ', '$403.76 ',\n",
       "       '$393.64 ', '$385.37 ', '$95.85 ', '$90.75 ', '$85.65 ', '$80.55 ',\n",
       "       '$10.19 ', '$20.39 ', '$18.86 ', '$35.68 ', '$25.47 ', '$3.54 ',\n",
       "       '$26.58 ', '$7.64 ', '$12.74 ', '$39.76 ', '$121.45 ', '$197.14 ',\n",
       "       '$11.50 ', '$43.69 ', '$31.27 ', '$14.28 ', '$94.27 ', '$5.09 ',\n",
       "       '$8.66 ', '$10.57 ', '$12.41 ', '$13.33 ', '$15.17 ', '$16.55 ',\n",
       "       '$17.93 ', '$18.39 ', '$14.24 ', '$15.57 ', '$16.56 ', '$7.81 ',\n",
       "       '$18.48 ', '$20.15 ', '$21.82 ', '$7.23 ', '$8.16 ', '$13.92 ',\n",
       "       '$10.27 ', '$10.12 ', '$10.58 ', '$9.66 ', '$175.27 ', '$195.15 ',\n",
       "       '$105.77 ', '$123.24 ', '$132.90 ', '$117.73 ', '$137.96 ',\n",
       "       '$141.64 ', '$134.74 ', '$118.65 ', '$91.51 ', '$133.36 ',\n",
       "       '$138.42 ', '$86.91 ', '$91.97 ', '$105.31 ', '$109.91 ',\n",
       "       '$123.70 ', '$95.65 ', '$132.44 ', '$122.78 ', '$142.56 ',\n",
       "       '$125.90 ', '$151.76 ', '$133.19 ', '$109.45 ', '$100.06 ',\n",
       "       '$117.27 ', '$122.32 ', '$128.88 ', '$131.87 ', '$137.04 ',\n",
       "       '$121.93 ', '$26.21 ', '$26.67 ', '$27.13 ', '$27.59 ', '$28.05 ',\n",
       "       '$8.27 ', '$6.39 ', '$7.58 ', '$5.82 ', '$26.62 ', '$73.57 ',\n",
       "       '$82.77 ', '$56.08 ', '$86.14 ', '$2.80 ', '$3.56 ', '$3.17 ',\n",
       "       '$4.13 ', '$2.54 ', '$5.60 ', '$2.75 ', '$3.16 ', '$4.08 ',\n",
       "       '$5.63 ', '$32.25 ', '$28.55 ', '$25.75 ', '$36.70 ', '$33.32 ',\n",
       "       '$11.62 ', '$36.11 ', '$40.93 ', '$33.09 ', '$28.50 ', '$25.77 ',\n",
       "       '$34.75 ', '$43.60 ', '$33.75 ', '$16.00 ', '$45.87 ', '$23.86 ',\n",
       "       '$198.39 ', '$24.83 ', '$15.64 ', '$21.92 ', '$13.26 ', '$16.31 ',\n",
       "       '$878.66 ', '$914.67 ', '$836.03 ', '$815.22 ', '$509.32 ',\n",
       "       '$878.96 ', '$915.08 ', '$836.45 ', '$815.68 ', '$509.78 ',\n",
       "       '$1,060.22 ', '$413.42 ', '$226.71 ', '$142.75 ', '$66.27 ',\n",
       "       '$220.64 ', '$71.37 ', '$50.98 ', '$48.43 ', '$488.70 ',\n",
       "       '$403.53 ', '$363.75 ', '$258.99 ', '$131.28 ', '$546.68 ',\n",
       "       '$343.05 ', '$204.64 ', '$83.10 ', '$75.96 ', '$66.23 ',\n",
       "       '$210.72 ', '$123.47 ', '$105.76 ', '$40.76 ', '$15.29 ',\n",
       "       '$211.53 ', '$197.74 ', '$183.94 ', '$101.96 ', '$18.78 ',\n",
       "       '$34.03 ', '$13.25 ', '$16.77 ', '$14.83 ', '$22.94 ', '$71.44 ',\n",
       "       '$15.80 ', '$96.57 ', '$160.95 ', '$183.95 ', '$1.50 ', '$12.09 ',\n",
       "       '$2.42 ', '$2.07 ', '$43.07 ', '$1.71 '], dtype=object)"
      ]
     },
     "execution_count": 38,
     "metadata": {},
     "output_type": "execute_result"
    }
   ],
   "source": [
    "products_df['Unit Cost USD'].unique()"
   ]
  },
  {
   "cell_type": "code",
   "execution_count": 46,
   "id": "9ae538fd-4f7b-43e9-8b61-a4adef9844e5",
   "metadata": {
    "collapsed": true,
    "jupyter": {
     "outputs_hidden": true
    }
   },
   "outputs": [
    {
     "data": {
      "text/plain": [
       "array([ 7, 20, 17, 15, 16,  8,  9, 13])"
      ]
     },
     "execution_count": 46,
     "metadata": {},
     "output_type": "execute_result"
    }
   ],
   "source": [
    "products_df['Brand'].str.len().unique()"
   ]
  },
  {
   "cell_type": "code",
   "execution_count": 47,
   "id": "4ff271bc-d306-4858-9802-0538bcb90251",
   "metadata": {
    "collapsed": true,
    "jupyter": {
     "outputs_hidden": true
    }
   },
   "outputs": [
    {
     "data": {
      "text/plain": [
       "array([ 6,  4,  5,  3, 11])"
      ]
     },
     "execution_count": 47,
     "metadata": {},
     "output_type": "execute_result"
    }
   ],
   "source": [
    "products_df['Color'].str.len().unique()"
   ]
  },
  {
   "cell_type": "code",
   "execution_count": 4,
   "id": "c2a52f4b-937b-4ece-b039-3e8293a4a927",
   "metadata": {},
   "outputs": [],
   "source": [
    "for x in ['Unit Price USD', 'Unit Cost USD']:\n",
    "    products_df['t' + x] = products_df[x].apply(lambda x: x[1:].strip().replace(',','')).astype(float)"
   ]
  },
  {
   "cell_type": "code",
   "execution_count": 5,
   "id": "5ef9e55a-5f19-4044-b929-14e41b69f91b",
   "metadata": {},
   "outputs": [
    {
     "data": {
      "text/html": [
       "<div>\n",
       "<style scoped>\n",
       "    .dataframe tbody tr th:only-of-type {\n",
       "        vertical-align: middle;\n",
       "    }\n",
       "\n",
       "    .dataframe tbody tr th {\n",
       "        vertical-align: top;\n",
       "    }\n",
       "\n",
       "    .dataframe thead th {\n",
       "        text-align: right;\n",
       "    }\n",
       "</style>\n",
       "<table border=\"1\" class=\"dataframe\">\n",
       "  <thead>\n",
       "    <tr style=\"text-align: right;\">\n",
       "      <th></th>\n",
       "      <th>ProductKey</th>\n",
       "      <th>Product Name</th>\n",
       "      <th>Brand</th>\n",
       "      <th>Color</th>\n",
       "      <th>Unit Cost USD</th>\n",
       "      <th>Unit Price USD</th>\n",
       "      <th>SubcategoryKey</th>\n",
       "      <th>Subcategory</th>\n",
       "      <th>CategoryKey</th>\n",
       "      <th>Category</th>\n",
       "      <th>tUnit Price USD</th>\n",
       "      <th>tUnit Cost USD</th>\n",
       "    </tr>\n",
       "  </thead>\n",
       "  <tbody>\n",
       "    <tr>\n",
       "      <th>0</th>\n",
       "      <td>1</td>\n",
       "      <td>Contoso 512MB MP3 Player E51 Silver</td>\n",
       "      <td>Contoso</td>\n",
       "      <td>Silver</td>\n",
       "      <td>$6.62</td>\n",
       "      <td>$12.99</td>\n",
       "      <td>101</td>\n",
       "      <td>MP4&amp;MP3</td>\n",
       "      <td>1</td>\n",
       "      <td>Audio</td>\n",
       "      <td>12.99</td>\n",
       "      <td>6.62</td>\n",
       "    </tr>\n",
       "    <tr>\n",
       "      <th>1</th>\n",
       "      <td>2</td>\n",
       "      <td>Contoso 512MB MP3 Player E51 Blue</td>\n",
       "      <td>Contoso</td>\n",
       "      <td>Blue</td>\n",
       "      <td>$6.62</td>\n",
       "      <td>$12.99</td>\n",
       "      <td>101</td>\n",
       "      <td>MP4&amp;MP3</td>\n",
       "      <td>1</td>\n",
       "      <td>Audio</td>\n",
       "      <td>12.99</td>\n",
       "      <td>6.62</td>\n",
       "    </tr>\n",
       "    <tr>\n",
       "      <th>2</th>\n",
       "      <td>3</td>\n",
       "      <td>Contoso 1G MP3 Player E100 White</td>\n",
       "      <td>Contoso</td>\n",
       "      <td>White</td>\n",
       "      <td>$7.40</td>\n",
       "      <td>$14.52</td>\n",
       "      <td>101</td>\n",
       "      <td>MP4&amp;MP3</td>\n",
       "      <td>1</td>\n",
       "      <td>Audio</td>\n",
       "      <td>14.52</td>\n",
       "      <td>7.40</td>\n",
       "    </tr>\n",
       "    <tr>\n",
       "      <th>3</th>\n",
       "      <td>4</td>\n",
       "      <td>Contoso 2G MP3 Player E200 Silver</td>\n",
       "      <td>Contoso</td>\n",
       "      <td>Silver</td>\n",
       "      <td>$11.00</td>\n",
       "      <td>$21.57</td>\n",
       "      <td>101</td>\n",
       "      <td>MP4&amp;MP3</td>\n",
       "      <td>1</td>\n",
       "      <td>Audio</td>\n",
       "      <td>21.57</td>\n",
       "      <td>11.00</td>\n",
       "    </tr>\n",
       "    <tr>\n",
       "      <th>4</th>\n",
       "      <td>5</td>\n",
       "      <td>Contoso 2G MP3 Player E200 Red</td>\n",
       "      <td>Contoso</td>\n",
       "      <td>Red</td>\n",
       "      <td>$11.00</td>\n",
       "      <td>$21.57</td>\n",
       "      <td>101</td>\n",
       "      <td>MP4&amp;MP3</td>\n",
       "      <td>1</td>\n",
       "      <td>Audio</td>\n",
       "      <td>21.57</td>\n",
       "      <td>11.00</td>\n",
       "    </tr>\n",
       "    <tr>\n",
       "      <th>...</th>\n",
       "      <td>...</td>\n",
       "      <td>...</td>\n",
       "      <td>...</td>\n",
       "      <td>...</td>\n",
       "      <td>...</td>\n",
       "      <td>...</td>\n",
       "      <td>...</td>\n",
       "      <td>...</td>\n",
       "      <td>...</td>\n",
       "      <td>...</td>\n",
       "      <td>...</td>\n",
       "      <td>...</td>\n",
       "    </tr>\n",
       "    <tr>\n",
       "      <th>2512</th>\n",
       "      <td>2513</td>\n",
       "      <td>Contoso Bluetooth Active Headphones L15 Red</td>\n",
       "      <td>Contoso</td>\n",
       "      <td>Red</td>\n",
       "      <td>$43.07</td>\n",
       "      <td>$129.99</td>\n",
       "      <td>505</td>\n",
       "      <td>Cell phones Accessories</td>\n",
       "      <td>5</td>\n",
       "      <td>Cell phones</td>\n",
       "      <td>129.99</td>\n",
       "      <td>43.07</td>\n",
       "    </tr>\n",
       "    <tr>\n",
       "      <th>2513</th>\n",
       "      <td>2514</td>\n",
       "      <td>Contoso Bluetooth Active Headphones L15 White</td>\n",
       "      <td>Contoso</td>\n",
       "      <td>White</td>\n",
       "      <td>$43.07</td>\n",
       "      <td>$129.99</td>\n",
       "      <td>505</td>\n",
       "      <td>Cell phones Accessories</td>\n",
       "      <td>5</td>\n",
       "      <td>Cell phones</td>\n",
       "      <td>129.99</td>\n",
       "      <td>43.07</td>\n",
       "    </tr>\n",
       "    <tr>\n",
       "      <th>2514</th>\n",
       "      <td>2515</td>\n",
       "      <td>Contoso In-Line Coupler E180 White</td>\n",
       "      <td>Contoso</td>\n",
       "      <td>White</td>\n",
       "      <td>$1.71</td>\n",
       "      <td>$3.35</td>\n",
       "      <td>505</td>\n",
       "      <td>Cell phones Accessories</td>\n",
       "      <td>5</td>\n",
       "      <td>Cell phones</td>\n",
       "      <td>3.35</td>\n",
       "      <td>1.71</td>\n",
       "    </tr>\n",
       "    <tr>\n",
       "      <th>2515</th>\n",
       "      <td>2516</td>\n",
       "      <td>Contoso In-Line Coupler E180 Black</td>\n",
       "      <td>Contoso</td>\n",
       "      <td>Black</td>\n",
       "      <td>$1.71</td>\n",
       "      <td>$3.35</td>\n",
       "      <td>505</td>\n",
       "      <td>Cell phones Accessories</td>\n",
       "      <td>5</td>\n",
       "      <td>Cell phones</td>\n",
       "      <td>3.35</td>\n",
       "      <td>1.71</td>\n",
       "    </tr>\n",
       "    <tr>\n",
       "      <th>2516</th>\n",
       "      <td>2517</td>\n",
       "      <td>Contoso In-Line Coupler E180 Silver</td>\n",
       "      <td>Contoso</td>\n",
       "      <td>Silver</td>\n",
       "      <td>$1.71</td>\n",
       "      <td>$3.35</td>\n",
       "      <td>505</td>\n",
       "      <td>Cell phones Accessories</td>\n",
       "      <td>5</td>\n",
       "      <td>Cell phones</td>\n",
       "      <td>3.35</td>\n",
       "      <td>1.71</td>\n",
       "    </tr>\n",
       "  </tbody>\n",
       "</table>\n",
       "<p>2517 rows × 12 columns</p>\n",
       "</div>"
      ],
      "text/plain": [
       "      ProductKey                                   Product Name    Brand  \\\n",
       "0              1            Contoso 512MB MP3 Player E51 Silver  Contoso   \n",
       "1              2              Contoso 512MB MP3 Player E51 Blue  Contoso   \n",
       "2              3               Contoso 1G MP3 Player E100 White  Contoso   \n",
       "3              4              Contoso 2G MP3 Player E200 Silver  Contoso   \n",
       "4              5                 Contoso 2G MP3 Player E200 Red  Contoso   \n",
       "...          ...                                            ...      ...   \n",
       "2512        2513    Contoso Bluetooth Active Headphones L15 Red  Contoso   \n",
       "2513        2514  Contoso Bluetooth Active Headphones L15 White  Contoso   \n",
       "2514        2515             Contoso In-Line Coupler E180 White  Contoso   \n",
       "2515        2516             Contoso In-Line Coupler E180 Black  Contoso   \n",
       "2516        2517            Contoso In-Line Coupler E180 Silver  Contoso   \n",
       "\n",
       "       Color Unit Cost USD Unit Price USD  SubcategoryKey  \\\n",
       "0     Silver        $6.62         $12.99              101   \n",
       "1       Blue        $6.62         $12.99              101   \n",
       "2      White        $7.40         $14.52              101   \n",
       "3     Silver       $11.00         $21.57              101   \n",
       "4        Red       $11.00         $21.57              101   \n",
       "...      ...           ...            ...             ...   \n",
       "2512     Red       $43.07        $129.99              505   \n",
       "2513   White       $43.07        $129.99              505   \n",
       "2514   White        $1.71          $3.35              505   \n",
       "2515   Black        $1.71          $3.35              505   \n",
       "2516  Silver        $1.71          $3.35              505   \n",
       "\n",
       "                  Subcategory  CategoryKey     Category  tUnit Price USD  \\\n",
       "0                     MP4&MP3            1        Audio            12.99   \n",
       "1                     MP4&MP3            1        Audio            12.99   \n",
       "2                     MP4&MP3            1        Audio            14.52   \n",
       "3                     MP4&MP3            1        Audio            21.57   \n",
       "4                     MP4&MP3            1        Audio            21.57   \n",
       "...                       ...          ...          ...              ...   \n",
       "2512  Cell phones Accessories            5  Cell phones           129.99   \n",
       "2513  Cell phones Accessories            5  Cell phones           129.99   \n",
       "2514  Cell phones Accessories            5  Cell phones             3.35   \n",
       "2515  Cell phones Accessories            5  Cell phones             3.35   \n",
       "2516  Cell phones Accessories            5  Cell phones             3.35   \n",
       "\n",
       "      tUnit Cost USD  \n",
       "0               6.62  \n",
       "1               6.62  \n",
       "2               7.40  \n",
       "3              11.00  \n",
       "4              11.00  \n",
       "...              ...  \n",
       "2512           43.07  \n",
       "2513           43.07  \n",
       "2514            1.71  \n",
       "2515            1.71  \n",
       "2516            1.71  \n",
       "\n",
       "[2517 rows x 12 columns]"
      ]
     },
     "execution_count": 5,
     "metadata": {},
     "output_type": "execute_result"
    }
   ],
   "source": [
    "products_df"
   ]
  },
  {
   "cell_type": "code",
   "execution_count": 6,
   "id": "f437ce27-1f3c-4240-a233-ac3350ab207d",
   "metadata": {},
   "outputs": [
    {
     "data": {
      "text/plain": [
       "ProductKey         0\n",
       "Product Name       0\n",
       "Brand              0\n",
       "Color              0\n",
       "Unit Cost USD      0\n",
       "Unit Price USD     0\n",
       "SubcategoryKey     0\n",
       "Subcategory        0\n",
       "CategoryKey        0\n",
       "Category           0\n",
       "tUnit Price USD    0\n",
       "tUnit Cost USD     0\n",
       "dtype: int64"
      ]
     },
     "execution_count": 6,
     "metadata": {},
     "output_type": "execute_result"
    }
   ],
   "source": [
    "products_df.isna().sum()"
   ]
  },
  {
   "cell_type": "code",
   "execution_count": 10,
   "id": "98e1156c-9bea-42de-b6ff-a6eb99bb3740",
   "metadata": {},
   "outputs": [
    {
     "name": "stdout",
     "output_type": "stream",
     "text": [
      "<class 'pandas.core.frame.DataFrame'>\n",
      "RangeIndex: 2517 entries, 0 to 2516\n",
      "Data columns (total 12 columns):\n",
      " #   Column           Non-Null Count  Dtype  \n",
      "---  ------           --------------  -----  \n",
      " 0   ProductKey       2517 non-null   int64  \n",
      " 1   Product Name     2517 non-null   object \n",
      " 2   Brand            2517 non-null   object \n",
      " 3   Color            2517 non-null   object \n",
      " 4   Unit Cost USD    2517 non-null   object \n",
      " 5   Unit Price USD   2517 non-null   object \n",
      " 6   SubcategoryKey   2517 non-null   int64  \n",
      " 7   Subcategory      2517 non-null   object \n",
      " 8   CategoryKey      2517 non-null   int64  \n",
      " 9   Category         2517 non-null   object \n",
      " 10  tUnit Price USD  2517 non-null   float64\n",
      " 11  tUnit Cost USD   2517 non-null   float64\n",
      "dtypes: float64(2), int64(3), object(7)\n",
      "memory usage: 236.1+ KB\n"
     ]
    }
   ],
   "source": [
    "products_df.info()"
   ]
  },
  {
   "cell_type": "code",
   "execution_count": 15,
   "id": "0fe99dd9-b35e-402b-bf85-96399349562b",
   "metadata": {},
   "outputs": [
    {
     "data": {
      "text/plain": [
       "2517"
      ]
     },
     "execution_count": 15,
     "metadata": {},
     "output_type": "execute_result"
    }
   ],
   "source": [
    "#create table cp2_products(product_key INT, product_name VARCHAR(255) NOT NULL, brand VARCHAR(255) NOT NULL, color varchar(255) not null, subcategory_key integer not null, subcategory varchar(255) not null, category_key integer not null, category varchar(255) not null, unit_price DECIMAL not null, unit_cost decimal not null, PRIMARY KEY(product_key))\n",
    "\n",
    "len(products_df['ProductKey'].unique())"
   ]
  },
  {
   "cell_type": "code",
   "execution_count": 19,
   "id": "acd0f1e6-6b7f-4d65-b93e-62d5cd12bc11",
   "metadata": {},
   "outputs": [
    {
     "data": {
      "text/plain": [
       "517"
      ]
     },
     "execution_count": 19,
     "metadata": {},
     "output_type": "execute_result"
    }
   ],
   "source": [
    "\n",
    "products_df[['ProductKey','Product Name','Brand','Color','SubcategoryKey','Subcategory','CategoryKey','Category','tUnit Price USD','tUnit Cost USD']].to_sql('cp2_products', get_connection(), if_exists='replace', index=False)\n"
   ]
  },
  {
   "cell_type": "code",
   "execution_count": null,
   "id": "762c6699-8a7b-4c60-8466-ce8a3ec7257c",
   "metadata": {},
   "outputs": [],
   "source": []
  }
 ],
 "metadata": {
  "kernelspec": {
   "display_name": "Python 3 (ipykernel)",
   "language": "python",
   "name": "python3"
  },
  "language_info": {
   "codemirror_mode": {
    "name": "ipython",
    "version": 3
   },
   "file_extension": ".py",
   "mimetype": "text/x-python",
   "name": "python",
   "nbconvert_exporter": "python",
   "pygments_lexer": "ipython3",
   "version": "3.12.6"
  }
 },
 "nbformat": 4,
 "nbformat_minor": 5
}
